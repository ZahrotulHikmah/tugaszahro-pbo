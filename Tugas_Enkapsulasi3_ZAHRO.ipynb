{
  "nbformat": 4,
  "nbformat_minor": 0,
  "metadata": {
    "colab": {
      "provenance": [],
      "authorship_tag": "ABX9TyOex0GY7ER9+xS7NTiZ2rFl",
      "include_colab_link": true
    },
    "kernelspec": {
      "name": "python3",
      "display_name": "Python 3"
    },
    "language_info": {
      "name": "python"
    }
  },
  "cells": [
    {
      "cell_type": "markdown",
      "metadata": {
        "id": "view-in-github",
        "colab_type": "text"
      },
      "source": [
        "<a href=\"https://colab.research.google.com/github/ZahrotulHikmah/tugaszahro-pbo/blob/main/Tugas_Enkapsulasi3_ZAHRO.ipynb\" target=\"_parent\"><img src=\"https://colab.research.google.com/assets/colab-badge.svg\" alt=\"Open In Colab\"/></a>"
      ]
    },
    {
      "cell_type": "code",
      "execution_count": 5,
      "metadata": {
        "id": "tLUsSK34DCzz"
      },
      "outputs": [],
      "source": [
        "# Desain class\n",
        "class RekeningBank:\n",
        "  def __init__ (self, nama_pemilik, saldo):\n",
        "    self.__nama_pemilik = nama_pemilik\n",
        "    self.__saldo = saldo\n",
        "\n",
        "  def get_nama_pemilik(self):\n",
        "    return self.__nama_pemilik\n",
        "\n",
        "  def set_nama_pemilik(self, nama_pemilik):\n",
        "    self.__nama_pemilik = nama_pemilik\n",
        "\n",
        "  def get_saldo(self):\n",
        "    return  self.__saldo\n",
        "\n",
        "  def set_saldo(self, saldo):\n",
        "    self.__saldo = saldo\n",
        "\n",
        "  def setor(self, total):\n",
        "    if total > 0:\n",
        "       self.__saldo += total\n",
        "       print('Total saldo sekarang:', self.__saldo)\n",
        "    else:\n",
        "       print(\"jumlah setor harus lebih dari 0\")\n",
        "\n",
        "  def tarik(self, total):\n",
        "    if total > 0 and total <= self.__saldo:\n",
        "       self.__saldo -= total\n",
        "       print('tarik', total)\n",
        "       print('total saldo sekarang:', self.__saldo)\n",
        "    else:\n",
        "       print(\"jumlah saldo tidak mencukupi\")"
      ]
    },
    {
      "cell_type": "code",
      "source": [
        "#Program utama untuk mendemonstrasikan class RekeningBank\n",
        "#yang menunjukkan penggunaan semua fungsi yang ada\n",
        "# membuat objek\n",
        "rb = RekeningBank('Nuna', 50000000)\n",
        "\n",
        "# mengakses nama pemilik dan saldo menggunakan fungsi\n",
        "print('Nama pemilik:',rb.get_nama_pemilik(), 'Saldo RekeningBank:', rb.get_saldo())\n",
        "\n",
        "# mengubah nama pemilik dan saldo menggunakan fungsi\n",
        "rb.set_nama_pemilik('Lula')\n",
        "rb.set_saldo('45000000')\n",
        "\n",
        "# mengakses nama pemilik dan saldo setelah diubah\n",
        "print('Nama pemilik:', rb.get_nama_pemilik(), 'Saldo RekeningBank:', rb.get_saldo())"
      ],
      "metadata": {
        "colab": {
          "base_uri": "https://localhost:8080/"
        },
        "id": "btydEvLNDNSR",
        "outputId": "b0323a79-3d82-4986-fc97-aec5cdae2969"
      },
      "execution_count": 6,
      "outputs": [
        {
          "output_type": "stream",
          "name": "stdout",
          "text": [
            "Nama pemilik: Nuna Saldo RekeningBank: 50000000\n",
            "Nama pemilik: Lula Saldo RekeningBank: 45000000\n"
          ]
        }
      ]
    },
    {
      "cell_type": "code",
      "source": [
        "#demo program utama\n",
        "rbn = RekeningBank(\"Zahro\", 100000000)\n",
        "\n",
        "#mengakses atau menampilkan\n",
        "print(\"Rekening Bank sekarang:\")\n",
        "print(\"Nama pemilik:\" , rbn.get_nama_pemilik())\n",
        "print(\"Saldo awal:\" , rbn.get_saldo())\n",
        "\n",
        "#menyetor\n",
        "rbn.setor(1000000)\n",
        "rbn.setor(0)\n",
        "\n",
        "#menarik saldo\n",
        "rbn.tarik(2000000)\n",
        "rbn.tarik(200000000)\n",
        "\n",
        "#mengakses atau menampilkan Rekening akhir\n",
        "print(\"Rekening Bank sekarang:\")\n",
        "print(\"Nama pemilik:\", rbn.get_nama_pemilik())\n",
        "print(\"Saldo akhir:\", rbn.get_saldo())"
      ],
      "metadata": {
        "colab": {
          "base_uri": "https://localhost:8080/"
        },
        "id": "by0UmrXwf40j",
        "outputId": "4366c7fc-3e1e-46b1-fbda-4f6e14592402"
      },
      "execution_count": 10,
      "outputs": [
        {
          "output_type": "stream",
          "name": "stdout",
          "text": [
            "Rekening Bank sekarang:\n",
            "Nama pemilik: Zahro\n",
            "Saldo awal: 100000000\n",
            "Total saldo sekarang: 101000000\n",
            "jumlah setor harus lebih dari 0\n",
            "tarik 2000000\n",
            "total saldo sekarang: 99000000\n",
            "jumlah saldo tidak mencukupi\n",
            "Rekening Bank sekarang:\n",
            "Nama pemilik: Zahro\n",
            "Saldo akhir: 99000000\n"
          ]
        }
      ]
    }
  ]
}