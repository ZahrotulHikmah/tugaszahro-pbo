{
  "nbformat": 4,
  "nbformat_minor": 0,
  "metadata": {
    "colab": {
      "provenance": [],
      "include_colab_link": true
    },
    "kernelspec": {
      "name": "python3",
      "display_name": "Python 3"
    },
    "language_info": {
      "name": "python"
    }
  },
  "cells": [
    {
      "cell_type": "markdown",
      "metadata": {
        "id": "view-in-github",
        "colab_type": "text"
      },
      "source": [
        "<a href=\"https://colab.research.google.com/github/ZahrotulHikmah/tugaszahro-pbo/blob/main/Tugas_Overloading2_ZAHRO.ipynb\" target=\"_parent\"><img src=\"https://colab.research.google.com/assets/colab-badge.svg\" alt=\"Open In Colab\"/></a>"
      ]
    },
    {
      "cell_type": "code",
      "execution_count": 22,
      "metadata": {
        "id": "5zCytCeM1uD4"
      },
      "outputs": [],
      "source": [
        "#class Nama\n",
        "class Nama:\n",
        "#Buat fungsi yang digunakan untuk mengabungkan nama dengan ketentuan nama depan, nama tengah, nama akhir, dan seterusnya dianggap 1 (satu) parameter\n",
        "  def gabung(self, nama_depan = \"\", nama_tengah = \"\", nama_akhir = \"\", dan_seterusnya = \"\"):\n",
        "    print(nama_depan + nama_tengah + nama_akhir + dan_seterusnya)"
      ]
    },
    {
      "cell_type": "code",
      "source": [
        "#Buat main program\n",
        "a = Nama()\n",
        "#Panggil fungsi untuk membuat nama lengkap 4 nama teman kalian\n",
        "a.gabung(\"Moch \", \"Aris \", \"Rofii\")\n",
        "a.gabung(\"Zahrotul \", \"Hikmah \")\n",
        "a.gabung(\"Keysa \", \"Ghea\")\n",
        "a.gabung(\"Farra \", \"Azzura \", \"Dasgupta\")"
      ],
      "metadata": {
        "id": "liQBcJWZ12MN",
        "colab": {
          "base_uri": "https://localhost:8080/"
        },
        "outputId": "582dcc50-f78b-4bc1-f0a0-d112cfbbe7dd"
      },
      "execution_count": 28,
      "outputs": [
        {
          "output_type": "stream",
          "name": "stdout",
          "text": [
            "Moch Aris Rofii\n",
            "Zahrotul Hikmah \n",
            "Keysa Ghea\n",
            "Farra Azzura Dasgupta\n"
          ]
        }
      ]
    },
    {
      "cell_type": "code",
      "source": [
        "#Tulisakan kesimpulan dari materi Overloading menurut pemahaman anda!\n",
        "#sebuah class yang dapat memiliki beberapa method dengan nama yang sama tetapi dengan parameter yang berbeda dan parameternya bisa dibatasi"
      ],
      "metadata": {
        "id": "xwFmppIG3JGE"
      },
      "execution_count": null,
      "outputs": []
    }
  ]
}