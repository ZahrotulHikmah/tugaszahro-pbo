{
  "nbformat": 4,
  "nbformat_minor": 0,
  "metadata": {
    "colab": {
      "provenance": [],
      "include_colab_link": true
    },
    "kernelspec": {
      "name": "python3",
      "display_name": "Python 3"
    },
    "language_info": {
      "name": "python"
    }
  },
  "cells": [
    {
      "cell_type": "markdown",
      "metadata": {
        "id": "view-in-github",
        "colab_type": "text"
      },
      "source": [
        "<a href=\"https://colab.research.google.com/github/ZahrotulHikmah/tugaszahro-pbo/blob/main/Tugas_Manipulasi_String_ZAHRO.ipynb\" target=\"_parent\"><img src=\"https://colab.research.google.com/assets/colab-badge.svg\" alt=\"Open In Colab\"/></a>"
      ]
    },
    {
      "cell_type": "markdown",
      "source": [
        "buatlah class Catatan dengan atribut\n",
        "1. nama (string)\n",
        "2. nomor_absen (intejer)\n",
        "3. catatan (string)\n",
        "\n",
        "buat fungsi untuk\n",
        "1. menggabungkan semua atribut diatas menjadi sebuah kalimat menggunakan pertambahan string\n",
        "2. menampilkan kalimat gabungan semua atribut\n",
        "3. mencari kata dalam sebuah kalimat menggunakan fungsi in\n",
        "4. menggandakan jumlah kalimat menggunakan tanda perkalian *\n",
        "5. menghitung jumlah huruf dalam kalimat menggunakan len\n",
        "6. mencari kata pertama dalam kalimat menggunakan startswith"
      ],
      "metadata": {
        "id": "AIkziXKoHrlK"
      }
    },
    {
      "cell_type": "code",
      "source": [
        "#desain class\n",
        "class Catatan:\n",
        "  def __init__(self,nama,no_absen,catatan):\n",
        "    self.nama = nama\n",
        "    self.no_absen = no_absen\n",
        "    self.catatan = catatan\n",
        "\n",
        "  def gabung(self):\n",
        "    kalimat = self.nama + str(self.no_absen) + self.catatan\n",
        "    return kalimat\n",
        "\n",
        "  def tampil(self,kalimat):\n",
        "    print(kalimat)\n",
        "\n",
        "  def cari(self,kalimat):\n",
        "    print('zahro' in kalimat)\n",
        "\n",
        "  def duplikasi(self,kalimat):\n",
        "    print(kalimat * 2)\n",
        "\n",
        "  def jumlah(self,kalimat):\n",
        "    print(len(kalimat))\n",
        "\n",
        "  def kataawal(self,kalimat):\n",
        "    print(kalimat.startswith('zah'))\n"
      ],
      "metadata": {
        "id": "_YQuLGp_IA93"
      },
      "execution_count": 17,
      "outputs": []
    },
    {
      "cell_type": "code",
      "source": [
        "#main program\n",
        "z = Catatan('zahro' ,33 ,'baik')\n",
        "\n",
        "z.gabung()\n",
        "z.tampil(z.gabung())\n",
        "z.cari(z.gabung())\n",
        "z.duplikasi(z.gabung())\n",
        "z.jumlah(z.gabung())\n",
        "z.kataawal(z.gabung())"
      ],
      "metadata": {
        "id": "QdIPVcTJID9Q",
        "colab": {
          "base_uri": "https://localhost:8080/"
        },
        "outputId": "1a004fb8-2ebc-4c2e-eb92-b2c34eddaddf"
      },
      "execution_count": 20,
      "outputs": [
        {
          "output_type": "stream",
          "name": "stdout",
          "text": [
            "zahro33baik\n",
            "True\n",
            "zahro33baikzahro33baik\n",
            "11\n",
            "True\n"
          ]
        }
      ]
    }
  ]
}