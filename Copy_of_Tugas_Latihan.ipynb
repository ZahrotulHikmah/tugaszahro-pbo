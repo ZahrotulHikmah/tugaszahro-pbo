{
  "nbformat": 4,
  "nbformat_minor": 0,
  "metadata": {
    "colab": {
      "provenance": [],
      "include_colab_link": true
    },
    "kernelspec": {
      "name": "python3",
      "display_name": "Python 3"
    },
    "language_info": {
      "name": "python"
    }
  },
  "cells": [
    {
      "cell_type": "markdown",
      "metadata": {
        "id": "view-in-github",
        "colab_type": "text"
      },
      "source": [
        "<a href=\"https://colab.research.google.com/github/ZahrotulHikmah/tugaszahro-pbo/blob/main/Copy_of_Tugas_Latihan.ipynb\" target=\"_parent\"><img src=\"https://colab.research.google.com/assets/colab-badge.svg\" alt=\"Open In Colab\"/></a>"
      ]
    },
    {
      "cell_type": "markdown",
      "source": [
        "Sebuah start-up GoPay merupakan perusahaan vintage yang menjadi alat pembayaran aplikasi marketplace dan lainnya. Anda seorang programmer yang ditugaskan untuk membuat aplikasi GoPay yang memiliki sebuah class bernama AkunGopay, yang memiliki atribut no_hp, nama dan saldo, dimana semua atribut bersifat private, demi keamanan.\n",
        "\n",
        "\n",
        "Pengguna bisa mendaftar akun GoPay dengan no_hp dan nama saja, namun juga bisa mendaftar dengan no_hp, nama dan saldo. Jika mendaftar dengan no_hp dan nama saja maka saldo otomatis bernilai 0.\n",
        "\n",
        "\n",
        "Class AkunGopay harus menyediakan fungsi yang dapat diakses oleh Marketplace untuk melakukan transaksi, yaitu :\n",
        "\n",
        "1.   topUp(), yang digunakan untuk menambahkan saldo\n",
        "2.   bayarTransaksi(), yang mengurangi saldo ketika melakukan transaksi\n",
        "3.   getSaldo(), untuk mengetahui jumlah saldo\n",
        "\n",
        "\n",
        "\n",
        "Teman Anda adalah seorang programer yang bekerja di sebuah start-up terkemuka Tokopedia yang bekerjasama dengan start-up keuangan GoPay. Anda ditugaskan membuat apikasi yang memiliki class AkunToped, dan memiliki atribut nama dan nomer_hp.\n",
        "\n",
        "Class AkunToped harus menyediakan fungsi yang untuk melakukan transaksi, yaitu:\n",
        "\n",
        "1. transaksi(), yang digunakan untuk mengurangi saldo Gopay dengan paramater nominal transaksi.\n",
        "2. getSaldo(), untuk mengetahui jumlah saldo Gopay.\n",
        "\n"
      ],
      "metadata": {
        "id": "NOQKwrfHB4pv"
      }
    },
    {
      "cell_type": "code",
      "execution_count": 6,
      "metadata": {
        "id": "peDTMz-5kxlh"
      },
      "outputs": [],
      "source": [
        "#Desain Class\n",
        "class AkunGopay:\n",
        "  def __init__ (self, no_hp, nama, saldo=0):\n",
        "    self.__no_hp = no_hp\n",
        "    self.__nama = nama\n",
        "    self.__saldo = saldo\n",
        "\n",
        "  def topUp(self, hasil):\n",
        "    self.__saldo += hasil\n",
        "    print(\"Saldo Awal :\", self.__saldo)\n",
        "\n",
        "  def bayarTransaksi(self, hasil):\n",
        "    if hasil <= self.__saldo:\n",
        "      self.__saldo -= hasil\n",
        "      print(\"Transaksi :\", hasil)\n",
        "      print(\"Saldo Sekarang :\", self.__saldo)\n",
        "    else:\n",
        "      print(\"Saldo tidak mencukupi untuk melakukan transaksi\")\n",
        "\n",
        "  def getSaldo(self):\n",
        "    return self.__saldo"
      ]
    },
    {
      "cell_type": "code",
      "source": [
        "class AkunToped:\n",
        "  def __init__ (self, nama, no_hp):\n",
        "    self.nama = nama\n",
        "    self.no_hp = no_hp\n",
        "\n",
        "  def transaksi(self, akungopay, nominaltransaksi):\n",
        "    if nominaltransaksi > 0 :\n",
        "      akungopay.bayarTransaksi(nominaltransaksi)\n",
        "    else:\n",
        "      print(\"Jumlah Transaksi Harus Lebih Dari 0\")\n",
        "\n",
        "  def getSaldo(self, jumlah):\n",
        "    return jumlah.getSaldo()"
      ],
      "metadata": {
        "id": "QabFTH9lNlni"
      },
      "execution_count": 7,
      "outputs": []
    },
    {
      "cell_type": "code",
      "source": [
        "#Main Program AkunGopay\n",
        "akunz = AkunGopay(\"085656464206\", \"Zahrotul Hikmah\", 10000000)\n",
        "print(\"Saldo :\", akunz.getSaldo())\n",
        "akunz.topUp(12000000)\n",
        "\n",
        "akunz.bayarTransaksi(5000000)\n",
        "\n",
        "akunz.getSaldo()\n",
        "\n",
        "akuntopedz = AkunToped(\"Zahrotul Hikmah\", \"085656464206\")\n",
        "print(\"\\nSaldo AkunGopay di ToPed :\", akuntopedz.getSaldo(akunz))\n",
        "\n",
        "akuntopedz.transaksi(akunz, 98000)\n",
        "\n",
        "akuntopedz.getSaldo(akunz)"
      ],
      "metadata": {
        "id": "eitzekkYkycQ",
        "colab": {
          "base_uri": "https://localhost:8080/"
        },
        "outputId": "73b78c0a-7fbd-4e90-abfe-1f4c2ba7615c"
      },
      "execution_count": 8,
      "outputs": [
        {
          "output_type": "stream",
          "name": "stdout",
          "text": [
            "Saldo : 10000000\n",
            "Saldo Awal : 22000000\n",
            "Transaksi : 5000000\n",
            "Saldo Sekarang : 17000000\n",
            "\n",
            "Saldo AkunGopay di ToPed : 17000000\n",
            "Transaksi : 98000\n",
            "Saldo Sekarang : 16902000\n"
          ]
        },
        {
          "output_type": "execute_result",
          "data": {
            "text/plain": [
              "16902000"
            ]
          },
          "metadata": {},
          "execution_count": 8
        }
      ]
    }
  ]
}