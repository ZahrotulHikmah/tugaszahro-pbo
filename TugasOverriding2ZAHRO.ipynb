{
  "nbformat": 4,
  "nbformat_minor": 0,
  "metadata": {
    "colab": {
      "provenance": [],
      "include_colab_link": true
    },
    "kernelspec": {
      "name": "python3",
      "display_name": "Python 3"
    },
    "language_info": {
      "name": "python"
    }
  },
  "cells": [
    {
      "cell_type": "markdown",
      "metadata": {
        "id": "view-in-github",
        "colab_type": "text"
      },
      "source": [
        "<a href=\"https://colab.research.google.com/github/ZahrotulHikmah/tugaszahro-pbo/blob/main/TugasOverriding2ZAHRO.ipynb\" target=\"_parent\"><img src=\"https://colab.research.google.com/assets/colab-badge.svg\" alt=\"Open In Colab\"/></a>"
      ]
    },
    {
      "cell_type": "markdown",
      "source": [
        "Anda bekerja sebagai programmer di sebuah supermarket besar. Manajemen supermarket ingin Anda mengembangkan program Python untuk mengelola berbagai jenis produk yang mereka jual di toko mereka. Mereka memiliki kelas dasar **Produk** dengan atribut berikut:\n",
        "\n",
        "*   kode_barang (kode unik produk)\n",
        "*   nama (nama produk)\n",
        "*   harga (harga produk)\n",
        "\n",
        "Selain itu, mereka memiliki dua jenis produk spesifik: **ProdukMakanan** dan **ProdukElektronik**. Produk makanan memiliki atribut tambahan:\n",
        "\n",
        "*   tanggal_kadaluarsa (tanggal kadaluarsa makanan)\n",
        "\n",
        "Sementara Produk elektronik memiliki atribut tambahan:\n",
        "\n",
        "*   garansi (lama garansi dalam bulan)\n",
        "\n",
        "Manajemen supermarket ingin Anda membuat program Python yang memungkinkan mereka untuk mencetak informasi tentang setiap produk, termasuk kode barang, nama, harga, serta atribut tambahan yang sesuai (tanggal kadaluarsa atau lama garansi).\n",
        "\n",
        "Tugas Anda adalah:\n",
        "\n",
        "\n",
        "1.   Membuat kelas Produk dengan atribut kode_barang, nama, dan harga, serta metode deskripsi yang mencetak informasi tentang produk tersebut.\n",
        "2.   Membuat kelas ProdukMakanan yang mewarisi dari kelas Produk dan memiliki atribut tambahan tanggal_kadaluarsa, serta mengimplementasikan metode deskripsi untuk mencetak informasi tentang produk makanan.\n",
        "1.   Membuat kelas ProdukElektronik yang juga mewarisi dari kelas Produk dan memiliki atribut tambahan garansi, serta mengimplementasikan metode deskripsi untuk mencetak informasi tentang produk elektronik.\n",
        "\n",
        "Program Anda harus mendemonstrasikan penggunaan konsep **overriding** dalam Python dalam konteks produk di supermarket.\n",
        "\n",
        "Selamat mengerjakan!\n",
        "\n",
        "\n",
        "\n",
        "\n",
        "\n"
      ],
      "metadata": {
        "id": "Yo0ulCyP2WPG"
      }
    },
    {
      "cell_type": "code",
      "execution_count": 37,
      "metadata": {
        "id": "tG1-g1OW2KSu"
      },
      "outputs": [],
      "source": [
        "class Produk:\n",
        "  #\n",
        "  def __init__ (self, kode_barang, nama, harga):\n",
        "    self.kode_barang = kode_barang\n",
        "    self.nama = nama\n",
        "    self.harga = harga\n",
        "\n",
        "  #\n",
        "  def deskripsi(self):\n",
        "    print('Kode barang:', self.kode_barang, 'Nama barang:', self.nama, 'harga:', self.harga)"
      ]
    },
    {
      "cell_type": "code",
      "source": [
        "class ProdukMakanan(Produk):\n",
        "  #\n",
        "  def __init__ (self, kode_barang, nama, harga, tanggal_kadaluarsa):\n",
        "    super().__init__ (kode_barang, nama, harga)\n",
        "    self.tanggal_kadaluarsa = tanggal_kadaluarsa\n",
        "\n",
        "  #\n",
        "  def deskripsi(self):\n",
        "    super().deskripsi()\n",
        "    print( '~ Tanggal kadaluarsa:', self.tanggal_kadaluarsa)"
      ],
      "metadata": {
        "id": "oy32Lm4m39l0"
      },
      "execution_count": 38,
      "outputs": []
    },
    {
      "cell_type": "code",
      "source": [
        "class ProdukElektronik(Produk):\n",
        "  #\n",
        "  def __init__ (self, kode_barang, nama, harga, garansi):\n",
        "    super().__init__ (kode_barang, nama, harga)\n",
        "    self.garansi = garansi\n",
        "\n",
        "  #\n",
        "  def deskripsi(self):\n",
        "    super().deskripsi()\n",
        "    print( '~ Garansi:', self.garansi)"
      ],
      "metadata": {
        "id": "wEgEGwxm4A1y"
      },
      "execution_count": 39,
      "outputs": []
    },
    {
      "cell_type": "code",
      "source": [
        "# Nama Lengkap : ZAHROTUL HIKMAH\n",
        "# Kelas : XI RPL 2\n",
        "# Contoh penggunaan masing-masing jenis class produk\n",
        "# produk makanan di sini\n",
        "produk1 = ProdukMakanan(11, \"Roti\", 15000, \"11maret2023\")\n",
        "# produk elektronik di sini\n",
        "produk2 = ProdukElektronik(22, \"Televisi\", 6000000, \"5tahun\")\n",
        "\n",
        "# Deskripsi produk makanan\n",
        "print(\"Deskripsi Produk Makanan:\")\n",
        "# lengkapi\n",
        "produk1.deskripsi()\n",
        "# Deskripsi produk elektronik\n",
        "print(\"Deskripsi Produk Elektronik:\")\n",
        "# lengkapi\n",
        "produk2.deskripsi()"
      ],
      "metadata": {
        "id": "noeSP_dw4F4c",
        "colab": {
          "base_uri": "https://localhost:8080/"
        },
        "outputId": "335628d2-2e7b-4583-84a4-c5f7154d958e"
      },
      "execution_count": 40,
      "outputs": [
        {
          "output_type": "stream",
          "name": "stdout",
          "text": [
            "Deskripsi Produk Makanan:\n",
            "Kode barang: 11 Nama barang: Roti harga: 15000\n",
            "~ Tanggal kadaluarsa: 11maret2023\n",
            "Deskripsi Produk Elektronik:\n",
            "Kode barang: 22 Nama barang: Televisi harga: 6000000\n",
            "~ Garansi: 5tahun\n"
          ]
        }
      ]
    }
  ]
}