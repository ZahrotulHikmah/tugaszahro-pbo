{
  "nbformat": 4,
  "nbformat_minor": 0,
  "metadata": {
    "colab": {
      "provenance": [],
      "include_colab_link": true
    },
    "kernelspec": {
      "name": "python3",
      "display_name": "Python 3"
    },
    "language_info": {
      "name": "python"
    }
  },
  "cells": [
    {
      "cell_type": "markdown",
      "metadata": {
        "id": "view-in-github",
        "colab_type": "text"
      },
      "source": [
        "<a href=\"https://colab.research.google.com/github/ZahrotulHikmah/tugaszahro-pbo/blob/main/Tugas_Overloading1_ZAHRO.ipynb\" target=\"_parent\"><img src=\"https://colab.research.google.com/assets/colab-badge.svg\" alt=\"Open In Colab\"/></a>"
      ]
    },
    {
      "cell_type": "code",
      "execution_count": 3,
      "metadata": {
        "id": "cytAUNWzM1-6"
      },
      "outputs": [],
      "source": [
        "#Buat Perkalian yang memiliki Sebuah fungsi dangan nama Hitung\n",
        "class Perkalian:\n",
        "  def hitung(self, a, b):\n",
        "    z = a * b\n",
        "    print(z)\n",
        "\n",
        "  def hitung(self, a, b, c):\n",
        "    z = a * b * c\n",
        "    print(z)"
      ]
    },
    {
      "cell_type": "code",
      "source": [
        "#method hasil() dengan variasi parameter\n",
        "class Perkalian:\n",
        "  def hitung(self, *args):\n",
        "        jumlah = 1\n",
        "        for angka in args:\n",
        "            jumlah *= angka\n",
        "        print(jumlah)"
      ],
      "metadata": {
        "id": "RAAkUZ0_JV5d"
      },
      "execution_count": 7,
      "outputs": []
    },
    {
      "cell_type": "code",
      "source": [
        "#Buat main program\n",
        "coba = Perkalian()\n",
        "#Panggil fungsi Hitung untuk menghitung 2 parameter\n",
        "coba.hitung(1, 3)\n",
        "#Panggil fungsi Hitung untuk menghitung 3 parameter\n",
        "coba.hitung(1, 2, 4)\n",
        "#Panggil fungsi Hitung untuk menghitung 4 parameter\n",
        "coba.hitung(1, 2, 3, 5)"
      ],
      "metadata": {
        "id": "W9hN-kX7PDUI",
        "colab": {
          "base_uri": "https://localhost:8080/"
        },
        "outputId": "ea568b08-8735-4427-a8b3-434d8892b9bd"
      },
      "execution_count": 9,
      "outputs": [
        {
          "output_type": "stream",
          "name": "stdout",
          "text": [
            "3\n",
            "8\n",
            "30\n"
          ]
        }
      ]
    }
  ]
}